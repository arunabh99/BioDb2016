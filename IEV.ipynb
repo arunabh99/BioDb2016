{
 "cells": [
  {
   "cell_type": "code",
   "execution_count": 53,
   "metadata": {
    "collapsed": false
   },
   "outputs": [
    {
     "name": "stdout",
     "output_type": "stream",
     "text": [
      "152916.0\n"
     ]
    }
   ],
   "source": [
    "f = open('rosalind_iev.txt','r')\n",
    "    \n",
    "one_arr = [float(x) for x in f.readline().split()]\n",
    "multiplier = [1.0,1.0,1.0,0.75,0.5,0]\n",
    "    \n",
    "expt_val = 0\n",
    "for y in range(6):\n",
    "    expt_val = expt_val + 2* one_arr[y]*multiplier[y]\n",
    "print (expt_val)"
   ]
  },
  {
   "cell_type": "code",
   "execution_count": null,
   "metadata": {
    "collapsed": true
   },
   "outputs": [],
   "source": []
  }
 ],
 "metadata": {
  "kernelspec": {
   "display_name": "Python 3",
   "language": "python",
   "name": "python3"
  },
  "language_info": {
   "codemirror_mode": {
    "name": "ipython",
    "version": 3
   },
   "file_extension": ".py",
   "mimetype": "text/x-python",
   "name": "python",
   "nbconvert_exporter": "python",
   "pygments_lexer": "ipython3",
   "version": "3.5.1"
  }
 },
 "nbformat": 4,
 "nbformat_minor": 0
}
