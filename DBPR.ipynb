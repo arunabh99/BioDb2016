{
 "cells": [
  {
   "cell_type": "code",
   "execution_count": 5,
   "metadata": {
    "collapsed": false
   },
   "outputs": [
    {
     "name": "stdout",
     "output_type": "stream",
     "text": [
      "ribosomal small subunit assembly\n",
      "translation\n"
     ]
    }
   ],
   "source": [
    "from Bio import ExPASy\n",
    "from Bio import SwissProt \n",
    "\n",
    "def main():\n",
    "    f = open('rosalind_dbpr.txt', 'r')\n",
    "    content_id = f.read().strip()\n",
    "    extractedhandle = ExPASy.get_sprot_raw(content_id)\n",
    "    item = SwissProt.read(extractedhandle)\n",
    "    biological_processes = []\n",
    "    #Looping through the cross references looking for \"GO\"\n",
    "    for i in item.cross_references:\n",
    "        #biological processes are mentioned in (GO) section\n",
    "        if i[0] == 'GO':\n",
    "            #Biological process names are mentioned in after P:\n",
    "            if i[2][0]=='P':\n",
    "                biological_processes.append(i[2].lstrip('P:'))\n",
    "    for i in biological_processes:\n",
    "        print (i)\n",
    "\n",
    "if __name__ == '__main__':\n",
    "    main()\n"
   ]
  },
  {
   "cell_type": "code",
   "execution_count": null,
   "metadata": {
    "collapsed": true
   },
   "outputs": [],
   "source": []
  }
 ],
 "metadata": {
  "kernelspec": {
   "display_name": "Python 3",
   "language": "python",
   "name": "python3"
  },
  "language_info": {
   "codemirror_mode": {
    "name": "ipython",
    "version": 3
   },
   "file_extension": ".py",
   "mimetype": "text/x-python",
   "name": "python",
   "nbconvert_exporter": "python",
   "pygments_lexer": "ipython3",
   "version": "3.5.1"
  }
 },
 "nbformat": 4,
 "nbformat_minor": 0
}
