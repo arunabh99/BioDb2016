{
 "cells": [
  {
   "cell_type": "code",
   "execution_count": 83,
   "metadata": {
    "collapsed": false
   },
   "outputs": [
    {
     "name": "stdout",
     "output_type": "stream",
     "text": [
      "18688\n"
     ]
    }
   ],
   "source": [
    "#Dictionary of RNA to protein_occurence\n",
    "dict = {'A':4,'R':6,'N':2,'D':2,'C':2,'Q':2,'E':2,'G':4,'H':2,'I':3,'L':6,\n",
    "        'K':2,'M':1,'F':2,'P':4,'S':6,'T':4,'W':1,'Y':2,'V':4,'*':3}\n",
    "\n",
    "file = open('rosalind_mrna.txt','r')\n",
    "s = file.readline().strip()\n",
    "#Protein\n",
    "prod = 1\n",
    "for x in range(len(s)):\n",
    "    prod = prod*dict[s[x]]\n",
    "    if prod>1000000:\n",
    "        prod = prod % 1000000\n",
    "#Stop codon\n",
    "prod = prod*3\n",
    "prod = prod % 1000000\n",
    "print (prod)"
   ]
  },
  {
   "cell_type": "code",
   "execution_count": null,
   "metadata": {
    "collapsed": true
   },
   "outputs": [],
   "source": [
    "18688"
   ]
  }
 ],
 "metadata": {
  "kernelspec": {
   "display_name": "Python 3",
   "language": "python",
   "name": "python3"
  },
  "language_info": {
   "codemirror_mode": {
    "name": "ipython",
    "version": 3
   },
   "file_extension": ".py",
   "mimetype": "text/x-python",
   "name": "python",
   "nbconvert_exporter": "python",
   "pygments_lexer": "ipython3",
   "version": "3.5.1"
  }
 },
 "nbformat": 4,
 "nbformat_minor": 0
}
