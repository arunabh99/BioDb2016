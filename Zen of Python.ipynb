{
 "cells": [
  {
   "cell_type": "markdown",
   "metadata": {},
   "source": [
    "## Special cases aren't special enough to break the rules. Although practicality beats purity."
   ]
  },
  {
   "cell_type": "markdown",
   "metadata": {},
   "source": [
    "### Breaking the rules can be tempting at times. But it tends to a slippery slope."
   ]
  },
  {
   "cell_type": "markdown",
   "metadata": {},
   "source": [
    "If the solution is good enough and refactoring (restructuring without change of functionality) would be more work,\n",
    "then choosing the working method might be better!"
   ]
  },
  {
   "cell_type": "markdown",
   "metadata": {},
   "source": [
    "Example: Really long imports\n",
    "\n",
    "To prevent long lines, import can be made shorter by using backslash, adding parenthesis etc"
   ]
  },
  {
   "cell_type": "markdown",
   "metadata": {},
   "source": [
    "```python\n",
    "from spam.eggs.foo.bar import spam, eggs, extra_spam, extra_eggs, extra stuff \n",
    "from spam.eggs.foo.bar import spam, eggs, extra_spam, eggs\n",
    "```"
   ]
  },
  {
   "cell_type": "markdown",
   "metadata": {},
   "source": [
    "### This can be avoided by by following 'one import per line'"
   ]
  },
  {
   "cell_type": "markdown",
   "metadata": {},
   "source": [
    "```python\n",
    "from spam.eggs.foo.bar import spam\n",
    "from spam.eggs.foo.bar import eggs\n",
    "from spam.eggs.foo.bar import extra_spam\n",
    "from spam.eggs.foo.bar import extra_eggs\n",
    "from spam.eggs.foo.bar import extra_stuff\n",
    "```"
   ]
  },
  {
   "cell_type": "markdown",
   "metadata": {},
   "source": [
    "But what about really long imports?"
   ]
  },
  {
   "cell_type": "markdown",
   "metadata": {},
   "source": [
    "```python\n",
    "from spam_eggs_and_some_extra_spam_stuff import my_spam_and_this_and_that_which_is_really_long_for_a_line\n",
    "```"
   ]
  },
  {
   "cell_type": "markdown",
   "metadata": {},
   "source": [
    "#### In this case, even though using a backslash is not recommended, it might still be the best option!"
   ]
  },
  {
   "cell_type": "markdown",
   "metadata": {},
   "source": [
    "```python\n",
    "from spam_eggs_and_some_extra_spam_stuff \\ \n",
    "    import my_spam_and_this_and_that_which_is_really_long_for_a_line\n",
    "```    "
   ]
  },
  {
   "cell_type": "code",
   "execution_count": null,
   "metadata": {
    "collapsed": true
   },
   "outputs": [],
   "source": []
  }
 ],
 "metadata": {
  "kernelspec": {
   "display_name": "Python 3",
   "language": "python",
   "name": "python3"
  },
  "language_info": {
   "codemirror_mode": {
    "name": "ipython",
    "version": 3
   },
   "file_extension": ".py",
   "mimetype": "text/x-python",
   "name": "python",
   "nbconvert_exporter": "python",
   "pygments_lexer": "ipython3",
   "version": "3.5.1"
  }
 },
 "nbformat": 4,
 "nbformat_minor": 0
}
