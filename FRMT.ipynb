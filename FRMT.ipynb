{
 "cells": [
  {
   "cell_type": "code",
   "execution_count": 49,
   "metadata": {
    "collapsed": false
   },
   "outputs": [
    {
     "name": "stdout",
     "output_type": "stream",
     "text": [
      ">gi|388254534|gb|JQ712981.1| Megaselia abdita short gastrulation mRNA, partial cds\n",
      "ATGCCCTCCAGCTAATTGCGATGATCCCATTTTGCTACCAGGCAAATGCTGTAAAACATGCCCCGGAGAA\n",
      "AACAATACGGAAATGATTCAAGATCAAGACCCAACACCTTTCAACATCGAAGAAGAAGAGCGCAATATGA\n",
      "AACATTTCGCAGCTCTACTCACAGGAAAGACATCCCATTTCCTCCGGAGAGAAGATACTACTGTTTCTTC\n",
      "AATGCATAATCCAAATAATTTAATAGCCACCGGGCGTTTCAATTTTCAAAAGAAAAATCTCTACTATTCA\n",
      "TTCTACGTAAGTGCTAATAAACAAATGGGAAGACCAACAACAATACAATTTGTTAATGACGTCGGTACAA\n",
      "TATTAGAAGAACATAACTTAACAACATCGACAAATGGTCCCTTGAGTGTTTATGAGAAATCAACGGGAAA\n",
      "AATTTGTGGCGTATGGCGTCGCATACCGAAAGACTACAAACGATTACTACGAGATGGACGACCTCATGTC\n",
      "GTGTTATTATGGCGATCAACATTGCTTGACACTAAACAAGTTGAATTGGCGTTAGGTGGCAAAATTGATA\n",
      "AATACTGGGCGTTGTCCAGC\n"
     ]
    }
   ],
   "source": [
    "from Bio import Entrez\n",
    "from Bio import SeqIO\n",
    "\n",
    "with open('rosalind_frmt.txt') as file:\n",
    "    IDs = file.read().strip().split()\n",
    "\n",
    "one = Entrez.efetch(db='nucleotide', id=IDs, rettype='fasta')\n",
    "data = list(SeqIO.parse(one, 'fasta'))\n",
    "\n",
    "[min_index] = [i for i in range(len(data)) if len(data[i]) == min([len(record.seq) for record in data])]\n",
    "\n",
    "two = Entrez.efetch(db='nucleotide', id=IDs, rettype='fasta')\n",
    "ej_fasta = two.read().strip().split('\\n\\n')[min_index]\n",
    "\n",
    "print (ej_fasta)"
   ]
  },
  {
   "cell_type": "code",
   "execution_count": null,
   "metadata": {
    "collapsed": false
   },
   "outputs": [],
   "source": []
  },
  {
   "cell_type": "code",
   "execution_count": null,
   "metadata": {
    "collapsed": true
   },
   "outputs": [],
   "source": []
  }
 ],
 "metadata": {
  "kernelspec": {
   "display_name": "Python 3",
   "language": "python",
   "name": "python3"
  },
  "language_info": {
   "codemirror_mode": {
    "name": "ipython",
    "version": 3
   },
   "file_extension": ".py",
   "mimetype": "text/x-python",
   "name": "python",
   "nbconvert_exporter": "python",
   "pygments_lexer": "ipython3",
   "version": "3.5.1"
  }
 },
 "nbformat": 4,
 "nbformat_minor": 0
}
