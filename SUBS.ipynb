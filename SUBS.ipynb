{
 "cells": [
  {
   "cell_type": "code",
   "execution_count": 19,
   "metadata": {
    "collapsed": false
   },
   "outputs": [
    {
     "name": "stdout",
     "output_type": "stream",
     "text": [
      "9 49 56 63 91 142 191 216 231 282 289 296 325 332 382 389 396 455 487 494 501 603 782 797 816\n"
     ]
    }
   ],
   "source": [
    "with open('rosalind_subs.txt') as input_data:\n",
    "    s,t = input_data.readlines()\n",
    "    s = s.rstrip()\n",
    "    t = t.rstrip()\n",
    "\n",
    "locations = []\n",
    "for i in range(0, len(s)-len(t)+1):\n",
    "    if s[i:i+len(t)] == t:\n",
    "        locations.append(str(i+1))\n",
    "\n",
    "print (' '.join(locations))\n",
    "with open('SUBS_output.txt', 'w') as output_data:\n",
    "    output_data.write(' '.join(locations))"
   ]
  },
  {
   "cell_type": "code",
   "execution_count": null,
   "metadata": {
    "collapsed": true
   },
   "outputs": [],
   "source": []
  }
 ],
 "metadata": {
  "kernelspec": {
   "display_name": "Python 3",
   "language": "python",
   "name": "python3"
  },
  "language_info": {
   "codemirror_mode": {
    "name": "ipython",
    "version": 3
   },
   "file_extension": ".py",
   "mimetype": "text/x-python",
   "name": "python",
   "nbconvert_exporter": "python",
   "pygments_lexer": "ipython3",
   "version": "3.5.1"
  }
 },
 "nbformat": 4,
 "nbformat_minor": 0
}
