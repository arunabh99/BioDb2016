{
 "cells": [
  {
   "cell_type": "code",
   "execution_count": 2,
   "metadata": {
    "collapsed": false
   },
   "outputs": [
    {
     "name": "stdout",
     "output_type": "stream",
     "text": [
      "18788331166609\n"
     ]
    }
   ],
   "source": [
    "def fibo(n,k):\n",
    "    a,b = 0,1\n",
    "    for i in range(n):\n",
    "        a,b = b,k*a+b\n",
    "    return a   \n",
    "\n",
    "def main():\n",
    "    f = open('rosalind_fib.txt', 'r')\n",
    "    content = f.read().strip()\n",
    "    stringlist = content.split()\n",
    "    #To convert each item to integer from string for calculations\n",
    "    n,k = map(int,stringlist) \n",
    "    numberofrabbits = fibo(n,k)\n",
    "    print (numberofrabbits)\n",
    "\n",
    "if __name__ == '__main__':\n",
    "    main()"
   ]
  },
  {
   "cell_type": "code",
   "execution_count": null,
   "metadata": {
    "collapsed": true
   },
   "outputs": [],
   "source": []
  }
 ],
 "metadata": {
  "kernelspec": {
   "display_name": "Python 3",
   "language": "python",
   "name": "python3"
  },
  "language_info": {
   "codemirror_mode": {
    "name": "ipython",
    "version": 3
   },
   "file_extension": ".py",
   "mimetype": "text/x-python",
   "name": "python",
   "nbconvert_exporter": "python",
   "pygments_lexer": "ipython3",
   "version": "3.5.1"
  }
 },
 "nbformat": 4,
 "nbformat_minor": 0
}
