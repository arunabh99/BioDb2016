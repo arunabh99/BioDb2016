{
 "cells": [
  {
   "cell_type": "code",
   "execution_count": 1,
   "metadata": {
    "collapsed": false
   },
   "outputs": [
    {
     "name": "stdout",
     "output_type": "stream",
     "text": [
      "Enter the filename:rosalind_rna.txt\n",
      "GUCGCCAGAAAAUUGAACUGGUCCGCGCGCAAGGGCCGCCCUUACGGUCGGCGAGCCCAACCCAUCGGGUGUCGCAGGUUUAGCGAAGGUGAUAUAAUAGGGGGAACAAAACCUAAUGUUUCGGUUAGCUACACUUUAUUGUGAUUGGUGGUGUUUUAUCAUGCCGUGCGAUGCCGUGCGGACGCUGCAGCAACACACUCCCUUGAGCGGCCAAGACUUCGCACCGCAGGCCCAUGACUGUAAGAAUUCCUCCUGAGAUUUGAUCGCACCGUAAUGUGCUUAAGGGAUGUCGUGUCUAUACGCAUACAUAACACUUUACAUGAGUUACAUGCAAGCACCCGCCCACGAAUGACUGGGGGCACCAGGAUGUGUGCCAGCGACGAUGUUGGGUGCUUUGGUCUGUUUCCUCACGGGCUCACGACACAGCAAGUAGCCCCCCAUCCUGCAAGUCACUCUGGCCCGCGUACAGAAACCUACAUGUGUUGAGCUCGUCCGAUGCUGUCCCGGUUAACGGUCUUACCAAGUCUUGAUUCCGACAAACCAUAAGGGCAACCUUAUAUAGCCCAGGUCCACUCCAAUACCAAUCAGUUUAUGACCGCAGGCAAGGAAUGUCGAUAGACUUGGUCGAGUAGCGCAGAUGAUCCGUAUAGUCACUUGCCAAAAGUCCUUCCAUGGCACUAGCCAGAAUUUGAUACAAAAGUGGUGGAACCCACGGCCCAAUUCGGACUUAUGGUAUUAGGCCGACGGGUACGUUCUACAUACUCCGCGAGCCGCAUCAAUUAGAGACUUAUGGGACAGAAACAUAAAUCAGACUCUAUUCGGAUGCCCGGUUGCAAGGUAUCGAAGUAUUCUGUAGGCAAUGGAUAGACAUGUCUUCCUGUAAAUGCCUGGCAACAGUGGAGUUGAUGUAAGAUGGUGUUAGGAUGGUGAACGUGGGCACAUUAGCAUACAAUCCAGGAAACCGAAGAUCUUUUCUAACAAU\n"
     ]
    }
   ],
   "source": [
    "def dna_to_rna(filein):\n",
    "    for line in filein:\n",
    "        line = line.strip()\n",
    "        return line.replace('T', 'U')\n",
    "\n",
    "filename = input('Enter the filename:')\n",
    "filein = open(filename)\n",
    "print(dna_to_rna(filein))"
   ]
  },
  {
   "cell_type": "code",
   "execution_count": null,
   "metadata": {
    "collapsed": true
   },
   "outputs": [],
   "source": []
  }
 ],
 "metadata": {
  "kernelspec": {
   "display_name": "Python 3",
   "language": "python",
   "name": "python3"
  },
  "language_info": {
   "codemirror_mode": {
    "name": "ipython",
    "version": 3
   },
   "file_extension": ".py",
   "mimetype": "text/x-python",
   "name": "python",
   "nbconvert_exporter": "python",
   "pygments_lexer": "ipython3",
   "version": "3.5.1"
  }
 },
 "nbformat": 4,
 "nbformat_minor": 0
}
