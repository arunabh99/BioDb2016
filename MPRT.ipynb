{
 "cells": [
  {
   "cell_type": "code",
   "execution_count": 6,
   "metadata": {
    "collapsed": false
   },
   "outputs": [
    {
     "name": "stdout",
     "output_type": "stream",
     "text": [
      "P02786_TRSR_HUMAN\n",
      "50 55 251 317 727\n",
      "P12923\n",
      "49 55 87\n",
      "P24592_IBP6_HUMAN\n",
      "229\n",
      "B5ZC00\n",
      "85 118 142 306 395\n",
      "Q2GBA3\n",
      "155\n",
      "Q2V4D9\n",
      "64\n",
      "P02760_HC_HUMAN\n",
      "36 115 250\n",
      "P01046_KNL1_BOVIN\n",
      "47 87 168 169 197 204\n",
      "P00742_FA10_HUMAN\n",
      "221 231\n",
      "P02749_APOH_HUMAN\n",
      "162 183 193 253\n"
     ]
    }
   ],
   "source": [
    "import re\n",
    "import sys\n",
    "import io\n",
    "from Bio import SeqIO\n",
    "import requests\n",
    "\n",
    "\n",
    "if __name__ == '__main__':\n",
    "    fid = open('rosalind_mprt.txt','r')\n",
    "    accs = fid.read().strip().split('\\n')\n",
    "    for acc in accs:\n",
    "        r = requests.get('http://www.uniprot.org/uniprot/%s.fasta' % acc)\n",
    "        s = SeqIO.read(io.StringIO(r.text), 'fasta')\n",
    "        mos = [x for x in re.finditer(r'(?=(N[^P][ST][^P]))',  str(s.seq))]\n",
    "        if not len(mos):\n",
    "            continue\n",
    "        print(acc)\n",
    "        print(' '.join([str(mo.start(0) + 1) for mo in mos]))\n"
   ]
  },
  {
   "cell_type": "code",
   "execution_count": null,
   "metadata": {
    "collapsed": true
   },
   "outputs": [],
   "source": []
  }
 ],
 "metadata": {
  "kernelspec": {
   "display_name": "Python 3",
   "language": "python",
   "name": "python3"
  },
  "language_info": {
   "codemirror_mode": {
    "name": "ipython",
    "version": 3
   },
   "file_extension": ".py",
   "mimetype": "text/x-python",
   "name": "python",
   "nbconvert_exporter": "python",
   "pygments_lexer": "ipython3",
   "version": "3.5.1"
  }
 },
 "nbformat": 4,
 "nbformat_minor": 0
}
