{
 "cells": [
  {
   "cell_type": "code",
   "execution_count": 3,
   "metadata": {
    "collapsed": false
   },
   "outputs": [
    {
     "name": "stdout",
     "output_type": "stream",
     "text": [
      "0.711836734694\n"
     ]
    }
   ],
   "source": [
    "from scipy.misc import comb\n",
    "\n",
    "\"\"\"Function takes a list as input and returns the \n",
    "   probability of a dominant allete.\"\"\"\n",
    "def calculate_probability_fn(input_list):\n",
    "    \"\"\"\n",
    "    unpacking the input.\n",
    "    k individuals are homozygous dominant for a factor, m are heterozygous, \n",
    "    and n are homozygous recessive.\n",
    "    \"\"\"    \n",
    "    k, m, n = input_list\n",
    "    #Compute total children genotypes considering all combinations possible\n",
    "    total_genotypes = 4*comb(k+m+n, 2)\n",
    "    #Now need to calculate the total number of reccessive children genotypes\n",
    "    total_reccessive = 4*comb(n, 2) + 2*n*m + comb(m,2)\n",
    "    #The dominant allete are those which are not reccessive\n",
    "    #So probability of a reccessive children genotype is as follows\n",
    "    prob_reccessive = total_reccessive/total_genotypes\n",
    "    #So the probability of non reccessive children genotype is as follows\n",
    "    prob_dominant = 1 - prob_reccessive\n",
    "    return prob_dominant\n",
    "    \n",
    "def main():\n",
    "    f = open('rosalind_iprb.txt', 'r')\n",
    "    content = f.read().strip()\n",
    "    stringlist = content.split()\n",
    "    #To convert each item to integer from string for calculations\n",
    "    inputlist = map(int,stringlist)\n",
    "    prob = calculate_probability_fn(inputlist)\n",
    "    print (prob)\n",
    "\n",
    "if __name__ == '__main__':\n",
    "    main()\n",
    "    "
   ]
  },
  {
   "cell_type": "code",
   "execution_count": null,
   "metadata": {
    "collapsed": true
   },
   "outputs": [],
   "source": []
  }
 ],
 "metadata": {
  "kernelspec": {
   "display_name": "Python 3",
   "language": "python",
   "name": "python3"
  },
  "language_info": {
   "codemirror_mode": {
    "name": "ipython",
    "version": 3
   },
   "file_extension": ".py",
   "mimetype": "text/x-python",
   "name": "python",
   "nbconvert_exporter": "python",
   "pygments_lexer": "ipython3",
   "version": "3.5.1"
  }
 },
 "nbformat": 4,
 "nbformat_minor": 0
}
