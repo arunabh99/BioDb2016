{
 "cells": [
  {
   "cell_type": "code",
   "execution_count": 8,
   "metadata": {
    "collapsed": false
   },
   "outputs": [
    {
     "name": "stdout",
     "output_type": "stream",
     "text": [
      "Enter the filename:rosalind_revc.txt\n",
      "GTCCCGGGGGGAATGACCTCGCGGGATGTCGAACGAGTTAAAGCGGTCTCGACTCTTGAGCATGTTTCAACAGCGGTAAAAATTGCTGGAGGCTTGAAGGGGGTCCGACATTGCGGCCTCGCAGTCGAGGCCAACGTATCCGAGACTTAGGGCCGGGCCATAACCACCAAAGAAGGCCGTAAGCTGGTACATACTGGTTGACGTGCTATAAGTAAGTTGAGCCTGAAACGTCGCTAAGCTCCTCATTTATCTCCCTAAGGGATCCAATTATTAGTTCACTCAGGTGCACAAACTATGACGCGGTGGATTCTTTATTGTATAGAAACTACTGCATTACGACCGGTGTGCCAACTATCCTCACATTTCTAGCTGACAATAACACGGGCGATATGATAATTGAGGGCAACTCAGTTATATCGGATAAGCCCCTGGACCTAGTATGTGCATAGCGAAAACCGTTACCGAACGTCACTGGTGCGATATTATTCGCAAAGTGAATGCCACTTTCGCTGGACTTATAACTGATCCGGATCAGAAACGGGATGGGTAGTGATATAAGTCCAGAGTGGAATCTCTACAGTTGGCGATCGTCGCCCGCGAGTCTCTCTTTGCTTTACTATGAGCTAGGGGAAGATAGACAAAGATCAACATTAAATCTTACAGCTATCCGTAAGGTCATAATGAGTCTAATACAAATAGTAAGTGGAAGTGACGCGATTTCGTGACAGGTACTCTTGGGATACATGTGTCGCGAGAGGTAATCGGACCACATACGATGCACCCCTTCGCTTTGGCCTATTTATGATACGCCTCGTCTTCCTGCGGCGACACGCTATGTGGCTAGTTTCTCCAGGGGAACTCTCGAGTCATGGTCTTTCATACTGTGAAGGTGGAGTATACCGACC\n"
     ]
    }
   ],
   "source": [
    "def reverseComplement(filein):\n",
    "        Complements = {'A':'T', 'C':'G', 'G':'C', 'T':'A'}\n",
    "        complement = ''\n",
    "        for line in filein:\n",
    "            line = line.strip()\n",
    "            for char in line:\n",
    "                complement += Complements[char]\n",
    "        rev_complement = complement[::-1]\n",
    "        return rev_complement\n",
    "\n",
    "\n",
    "filename = input('Enter the filename:')\n",
    "filein = open(filename)\n",
    "print(reverseComplement(filein))"
   ]
  }
 ],
 "metadata": {
  "kernelspec": {
   "display_name": "Python 3",
   "language": "python",
   "name": "python3"
  },
  "language_info": {
   "codemirror_mode": {
    "name": "ipython",
    "version": 3
   },
   "file_extension": ".py",
   "mimetype": "text/x-python",
   "name": "python",
   "nbconvert_exporter": "python",
   "pygments_lexer": "ipython3",
   "version": "3.5.2"
  }
 },
 "nbformat": 4,
 "nbformat_minor": 0
}
