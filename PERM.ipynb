{
 "cells": [
  {
   "cell_type": "code",
   "execution_count": 38,
   "metadata": {
    "collapsed": false
   },
   "outputs": [],
   "source": [
    "from itertools import permutations\n",
    "\n",
    "def a_fact(q):\n",
    "    if q < 2:\n",
    "        return 1\n",
    "    else:\n",
    "        return q*a_fact(q-1)\n",
    "\n",
    "with open('rosalind_perm.txt') as input_data:\n",
    "    two = range(1, int(input_data.read())+1)\n",
    "\n",
    "one = map(list,list(permutations(two)))\n",
    "\n",
    "with open('perm_output.txt', 'w') as perm_out: \n",
    "    perm_out.write(str(a_fact(len(two))))\n",
    "    for perm in one:\n",
    "        perm_out.write('\\n'+' '.join(map(str,perm)))"
   ]
  },
  {
   "cell_type": "code",
   "execution_count": null,
   "metadata": {
    "collapsed": false
   },
   "outputs": [],
   "source": []
  },
  {
   "cell_type": "code",
   "execution_count": null,
   "metadata": {
    "collapsed": true
   },
   "outputs": [],
   "source": []
  }
 ],
 "metadata": {
  "kernelspec": {
   "display_name": "Python 3",
   "language": "python",
   "name": "python3"
  },
  "language_info": {
   "codemirror_mode": {
    "name": "ipython",
    "version": 3
   },
   "file_extension": ".py",
   "mimetype": "text/x-python",
   "name": "python",
   "nbconvert_exporter": "python",
   "pygments_lexer": "ipython3",
   "version": "3.5.1"
  }
 },
 "nbformat": 4,
 "nbformat_minor": 0
}
