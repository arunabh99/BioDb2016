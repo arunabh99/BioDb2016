{
 "cells": [
  {
   "cell_type": "code",
   "execution_count": 12,
   "metadata": {
    "collapsed": false
   },
   "outputs": [],
   "source": [
    "from itertools import permutations\n",
    "\n",
    "def factorial(n):\n",
    "    '''Returns the value of n!'''\n",
    "    if n < 2:\n",
    "        return 1\n",
    "    else:\n",
    "        return n*factorial(n-1)\n",
    "\n",
    "with open('rosalind_perm.txt') as input_data:\n",
    "    perm_set = range(1, int(input_data.read())+1)\n",
    "\n",
    "# Creating list containing ordered lists of all permutations.\n",
    "perm_list = map(list,list(permutations(perm_set)))\n",
    "\n",
    "with open('perm_output.txt', 'w') as output_data: \n",
    "    \n",
    "    # Writing the total number of permutations, n!\n",
    "    output_data.write(str(factorial(len(perm_set))))\n",
    "\n",
    "    # Writing the permuations in the desired format.\n",
    "    for permutation in perm_list:\n",
    "        output_data.write('\\n'+' '.join(map(str,permutation)))\n"
   ]
  },
  {
   "cell_type": "code",
   "execution_count": null,
   "metadata": {
    "collapsed": true
   },
   "outputs": [],
   "source": []
  }
 ],
 "metadata": {
  "kernelspec": {
   "display_name": "Python 3",
   "language": "python",
   "name": "python3"
  },
  "language_info": {
   "codemirror_mode": {
    "name": "ipython",
    "version": 3
   },
   "file_extension": ".py",
   "mimetype": "text/x-python",
   "name": "python",
   "nbconvert_exporter": "python",
   "pygments_lexer": "ipython3",
   "version": "3.5.1"
  }
 },
 "nbformat": 4,
 "nbformat_minor": 0
}
