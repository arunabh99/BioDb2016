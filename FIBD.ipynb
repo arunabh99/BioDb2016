{
 "cells": [
  {
   "cell_type": "code",
   "execution_count": 2,
   "metadata": {
    "collapsed": false
   },
   "outputs": [
    {
     "name": "stdout",
     "output_type": "stream",
     "text": [
      "2873957992832138936\n"
     ]
    }
   ],
   "source": [
    "with open('rosalind_fibd_one.txt') as input_data:\n",
    "    n,m = map(int, input_data.read().split())\n",
    "\n",
    "# Populate the initial rabbits.\n",
    "Rabbits = [1]+[0]*(m-1)\n",
    "\n",
    "# Calculate the new rabbits (bunnies), in a given year.\n",
    "# Start at use range(1,n) since our initial population is year 0.\n",
    "for year in range(1, n):\n",
    "    Bunnies = 0\n",
    "    # Get the number of Rabbits able to old enough to give birth.\n",
    "    for j in range(1,m):\n",
    "        Bunnies += Rabbits[(year-j-1)%m]\n",
    "    # Bunnies replace the old rabbits who died.\n",
    "    Rabbits[(year)%m] = Bunnies\n",
    "\n",
    "# Total rabbits is the sum of the living rabbits.\n",
    "Total_Rabbits = sum(Rabbits)\n",
    "\n",
    "# Write the output data.\n",
    "#with open('FIBD_out.txt', 'w') as output_data: \n",
    "print (Total_Rabbits)\n",
    "#output_data.write(str(Total_Rabbits))"
   ]
  },
  {
   "cell_type": "code",
   "execution_count": null,
   "metadata": {
    "collapsed": true
   },
   "outputs": [],
   "source": []
  }
 ],
 "metadata": {
  "kernelspec": {
   "display_name": "Python 3",
   "language": "python",
   "name": "python3"
  },
  "language_info": {
   "codemirror_mode": {
    "name": "ipython",
    "version": 3
   },
   "file_extension": ".py",
   "mimetype": "text/x-python",
   "name": "python",
   "nbconvert_exporter": "python",
   "pygments_lexer": "ipython3",
   "version": "3.5.1"
  }
 },
 "nbformat": 4,
 "nbformat_minor": 0
}
