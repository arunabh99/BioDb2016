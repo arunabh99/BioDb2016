{
 "cells": [
  {
   "cell_type": "code",
   "execution_count": 12,
   "metadata": {
    "collapsed": false
   },
   "outputs": [
    {
     "name": "stdout",
     "output_type": "stream",
     "text": [
      "4\n"
     ]
    }
   ],
   "source": [
    "with open('rosalind_fibd.txt') as file:\n",
    "    y,x = map(int, file.read().split())\n",
    "\n",
    "    One = [1]+[0]*(x-1)\n",
    "\n",
    "for year in range(1, y):\n",
    "    Bun = 0\n",
    "    # Total number of rabbits\n",
    "    for j in range(1,x):\n",
    "        Bun += One[(year-j-1)%x]\n",
    "    # Replacement\n",
    "    One[(year)%x] = Bun\n",
    "\n",
    "# The number of total rabbits\n",
    "Tot_Rab = sum(One)\n",
    "print (Tot_Rab)"
   ]
  },
  {
   "cell_type": "code",
   "execution_count": 11,
   "metadata": {
    "collapsed": false
   },
   "outputs": [
    {
     "data": {
      "text/plain": [
       "2873957992832138936"
      ]
     },
     "execution_count": 11,
     "metadata": {},
     "output_type": "execute_result"
    }
   ],
   "source": [
    "2873957992832138936"
   ]
  },
  {
   "cell_type": "code",
   "execution_count": null,
   "metadata": {
    "collapsed": true
   },
   "outputs": [],
   "source": []
  }
 ],
 "metadata": {
  "kernelspec": {
   "display_name": "Python 3",
   "language": "python",
   "name": "python3"
  },
  "language_info": {
   "codemirror_mode": {
    "name": "ipython",
    "version": 3
   },
   "file_extension": ".py",
   "mimetype": "text/x-python",
   "name": "python",
   "nbconvert_exporter": "python",
   "pygments_lexer": "ipython3",
   "version": "3.5.1"
  }
 },
 "nbformat": 4,
 "nbformat_minor": 0
}
