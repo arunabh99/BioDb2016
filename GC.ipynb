{
 "cells": [
  {
   "cell_type": "code",
   "execution_count": 33,
   "metadata": {
    "collapsed": false
   },
   "outputs": [
    {
     "name": "stdout",
     "output_type": "stream",
     "text": [
      "Rosalind_2198\n",
      "52.031603\n"
     ]
    }
   ],
   "source": [
    "s=open('rosalind_gc2.txt','r').readlines()\n",
    "\n",
    "name_list=[]\n",
    "seq_list=[]\n",
    "data=''\n",
    "\n",
    "for line in s:\n",
    "    line=line.strip()\n",
    "    for i in line:\n",
    "        if i == '>':\n",
    "            name_list.append(line[1:])\n",
    "            if data:\n",
    "                seq_list.append(data)\n",
    "                data=''\n",
    "            break\n",
    "        else:\n",
    "            line=line.upper()\n",
    "    if all([k==k.upper() for k in line]):\n",
    "        data=data+line\n",
    "        \n",
    "seq_list.append(data) \n",
    "GC_list=[]\n",
    "for seq in seq_list:\n",
    "    i=0\n",
    "    for k in seq:\n",
    "        if k==\"G\" or k=='C':\n",
    "            i+=1\n",
    "    GC_cont=float(i)/len(seq)*100.0\n",
    "    GC_list.append(GC_cont)\n",
    "\n",
    "\n",
    "m=max(GC_list)\n",
    "print (name_list[GC_list.index(m)])\n",
    "print (\"{:0.6f}\".format(m))"
   ]
  }
 ],
 "metadata": {
  "kernelspec": {
   "display_name": "Python 3",
   "language": "python",
   "name": "python3"
  },
  "language_info": {
   "codemirror_mode": {
    "name": "ipython",
    "version": 3
   },
   "file_extension": ".py",
   "mimetype": "text/x-python",
   "name": "python",
   "nbconvert_exporter": "python",
   "pygments_lexer": "ipython3",
   "version": "3.5.2"
  }
 },
 "nbformat": 4,
 "nbformat_minor": 0
}
