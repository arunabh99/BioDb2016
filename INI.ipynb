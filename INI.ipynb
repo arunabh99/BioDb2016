{
 "cells": [
  {
   "cell_type": "code",
   "execution_count": 1,
   "metadata": {
    "collapsed": false
   },
   "outputs": [
    {
     "name": "stdout",
     "output_type": "stream",
     "text": [
      "Enter the filename:rosalind_ini.txt\n",
      "Number of nucleotide A is 249\n",
      "Number of nucleotide C is 244\n",
      "Number of nucleotide G is 226\n",
      "Number of nucleotide T is 263\n"
     ]
    }
   ],
   "source": [
    "filename = input('Enter the filename:')\n",
    "filein = open(filename)\n",
    "\n",
    "for line in filein:\n",
    "    line = line.strip()\n",
    "    A_count = 0\n",
    "    C_count = 0\n",
    "    G_count = 0\n",
    "    T_count = 0\n",
    "    for char in line :\n",
    "        if char == 'A':\n",
    "            A_count += 1\n",
    "        elif char == 'C':\n",
    "            C_count += 1\n",
    "        elif char == 'G':\n",
    "            G_count += 1\n",
    "        elif char == 'T':\n",
    "            T_count += 1\n",
    "\n",
    "print(\"Number of nucleotide A is\", A_count)\n",
    "print(\"Number of nucleotide C is\", C_count)\n",
    "print(\"Number of nucleotide G is\", G_count)\n",
    "print(\"Number of nucleotide T is\", T_count)"
   ]
  },
  {
   "cell_type": "code",
   "execution_count": null,
   "metadata": {
    "collapsed": true
   },
   "outputs": [],
   "source": []
  }
 ],
 "metadata": {
  "kernelspec": {
   "display_name": "Python 3",
   "language": "python",
   "name": "python3"
  },
  "language_info": {
   "codemirror_mode": {
    "name": "ipython",
    "version": 3
   },
   "file_extension": ".py",
   "mimetype": "text/x-python",
   "name": "python",
   "nbconvert_exporter": "python",
   "pygments_lexer": "ipython3",
   "version": "3.5.1"
  }
 },
 "nbformat": 4,
 "nbformat_minor": 0
}
